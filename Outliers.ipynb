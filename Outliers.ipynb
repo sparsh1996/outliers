{
 "cells": [
  {
   "cell_type": "code",
   "execution_count": 1,
   "metadata": {},
   "outputs": [],
   "source": [
    "def percentile_based(data, threshold = 95):\n",
    "    diff = (100 - threshold)/2\n",
    "    minval, maxval = np.percentile(data, [diff, 100-diff])\n",
    "    return ((data<minval) | (data>maxval))\n",
    "\n",
    "def median_based(data, threshold=3.5):\n",
    "    median = np.median(data)\n",
    "    mad = np.median([np.abs(y - median) for y in data])\n",
    "    modified_zscore = [(0.6745*(y - median)/mad) for y in data]\n",
    "    return np.abs(modified_zscore)>threshold\n",
    "\n",
    "def std_div(data, threshold=3):\n",
    "    std = data.std()\n",
    "    mean = data.mean()\n",
    "    isOutlier = []\n",
    "    for val in data:\n",
    "        if np.abs(val-mean)/std > threshold:\n",
    "            isOutlier.append(True)\n",
    "        else:\n",
    "            isOutlier.append(False)\n",
    "    return np.array(isOutlier)"
   ]
  },
  {
   "cell_type": "code",
   "execution_count": 2,
   "metadata": {},
   "outputs": [],
   "source": [
    "def outliervote(data):\n",
    "    x = percentile_based(data)\n",
    "    y = median_based(data)\n",
    "    z = std_div(data)\n",
    "    \n",
    "    temp = zip(data.index, x, y, z)\n",
    "    temp = list(temp)\n",
    "    final = []\n",
    "    \n",
    "    for i in range(len(temp)):\n",
    "        if temp[i].count(False) >= 2:\n",
    "            final.append(False)\n",
    "        else:\n",
    "            final.append(True)\n",
    "            \n",
    "    return np.array(final)        "
   ]
  }
 ],
 "metadata": {
  "kernelspec": {
   "display_name": "Python 3",
   "language": "python",
   "name": "python3"
  },
  "language_info": {
   "codemirror_mode": {
    "name": "ipython",
    "version": 3
   },
   "file_extension": ".py",
   "mimetype": "text/x-python",
   "name": "python",
   "nbconvert_exporter": "python",
   "pygments_lexer": "ipython3",
   "version": "3.7.4"
  }
 },
 "nbformat": 4,
 "nbformat_minor": 2
}
